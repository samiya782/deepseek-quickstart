{
 "cells": [
  {
   "cell_type": "code",
   "id": "initial_id",
   "metadata": {
    "collapsed": true,
    "ExecuteTime": {
     "end_time": "2025-06-14T13:28:31.489682Z",
     "start_time": "2025-06-14T13:28:31.138274Z"
    }
   },
   "source": [
    "# DeepSeek API 客户端初始化\n",
    "import os\n",
    "from openai import OpenAI\n",
    "\n",
    "# 从环境变量获取 DeepSeek API Key\n",
    "api_key = os.getenv(\"DEEPSEEK_API_KEY\")\n",
    "if not api_key:\n",
    "    raise ValueError(\"请设置 DEEPSEEK_API_KEY 环境变量\")\n",
    "# 初始化 DeepSeek 客户端\n",
    "client = OpenAI(\n",
    "    api_key=api_key,\n",
    "    base_url=\"https://api.deepseek.com/v1\",  # DeepSeek API 的基地址\n",
    ")\n",
    "os.getcwd()"
   ],
   "outputs": [
    {
     "data": {
      "text/plain": [
       "'/mnt/d/Python/PythonProject/deepseek-quickstart/deepseek/rednote'"
      ]
     },
     "execution_count": 1,
     "metadata": {},
     "output_type": "execute_result"
    }
   ],
   "execution_count": 1
  },
  {
   "metadata": {
    "ExecuteTime": {
     "end_time": "2025-06-14T13:28:44.435284Z",
     "start_time": "2025-06-14T13:28:37.481780Z"
    }
   },
   "cell_type": "code",
   "source": [
    "# 初始化向量数据库\n",
    "from pymilvus import MilvusClient, model\n",
    "default_embedding_model = model.DefaultEmbeddingFunction()\n",
    "print(default_embedding_model.dim)\n",
    "milvus_client = MilvusClient(\"./milvus_demo.db\")\n",
    "collection_name = \"rednote_collection\"\n",
    "if milvus_client.has_collection(collection_name):\n",
    "    milvus_client.drop_collection(collection_name)\n",
    "milvus_client.create_collection(\n",
    "    collection_name=collection_name,\n",
    "    dimension=default_embedding_model.dim,\n",
    "    metric_type=\"IP\",  # 内积距离\n",
    "    consistency_level=\"Strong\"  # 强一致性\n",
    ")"
   ],
   "id": "e9ef815c22eabe3f",
   "outputs": [
    {
     "name": "stdout",
     "output_type": "stream",
     "text": [
      "768\n"
     ]
    }
   ],
   "execution_count": 2
  },
  {
   "metadata": {
    "ExecuteTime": {
     "end_time": "2025-06-14T14:48:23.977422Z",
     "start_time": "2025-06-14T14:48:23.516717Z"
    }
   },
   "cell_type": "code",
   "source": [
    "# 构建向量数据库\n",
    "data = [\"深海蓝藻保湿面膜：核心成分为深海蓝藻提取物，富含多糖和氨基酸，能深层补水、修护肌肤屏障、舒缓敏感泛红。质地清爽不粘腻，适合所有肤质，尤其适合干燥、敏感肌。规格：25ml*5片。\", \"美白精华：核心成分是烟酰胺和VC衍生物，主要功效是提亮肤色、淡化痘印、改善暗沉。质地轻薄易吸收，适合需要均匀肤色的人群。\", \"小黑条口红: 涂抹时非常顺滑，不会卡唇纹，这对我这种唇部容易干的黄皮姑娘来说实在太友好了。即使不涂润唇膏打底，依然能保持一整天水润不干燥。\"]\n",
    "docs = [{\"id\": i, \"text\": text, \"vector\": default_embedding_model.encode_documents([text])[0]} for i, text in enumerate(data)]\n",
    "milvus_client.insert(collection_name, docs)"
   ],
   "id": "c6011e148c4aa4f7",
   "outputs": [
    {
     "data": {
      "text/plain": [
       "{'insert_count': 3, 'ids': [0, 1, 2], 'cost': 0}"
      ]
     },
     "execution_count": 3,
     "metadata": {},
     "output_type": "execute_result"
    }
   ],
   "execution_count": 3
  },
  {
   "metadata": {
    "ExecuteTime": {
     "end_time": "2025-06-14T15:10:06.297307Z",
     "start_time": "2025-06-14T15:10:06.287093Z"
    }
   },
   "cell_type": "code",
   "source": [
    "# 系统提示词\n",
    "SYSTEM_PROMPT = \"\"\"\n",
    "你是一个资深的小红书爆款文案专家，擅长结合最新潮流和产品卖点，创作引人入胜、高互动、高转化的笔记文案。\n",
    "\n",
    "你的任务是根据用户提供的产品和需求，生成包含标题、正文、相关标签和表情符号的完整小红书笔记。\n",
    "\n",
    "请始终采用'Thought-Action-Observation'模式进行推理和行动。文案风格需活泼、真诚、富有感染力。当完成任务后，请以JSON格式直接输出最终文案，格式如下：\n",
    "```json\n",
    "{\n",
    "  \"title\": \"小红书标题\",\n",
    "  \"body\": \"小红书正文\",\n",
    "  \"hashtags\": [\"#标签1\", \"#标签2\", \"#标签3\", \"#标签4\", \"#标签5\"],\n",
    "  \"emojis\": [\"✨\", \"🔥\", \"💖\"]\n",
    "}\n",
    "```\n",
    "在生成文案前，请务必先思考并收集足够的信息。\n",
    "\"\"\"\n",
    "\n",
    "# 定义工具\n",
    "TOOLS_DEFINITION = [\n",
    "    {\n",
    "        \"type\": \"function\",\n",
    "        \"function\": {\n",
    "            \"name\": \"search_web\",\n",
    "            \"description\": \"搜索互联网上的实时信息，用于获取最新新闻、流行趋势、用户评价、行业报告等。请确保搜索关键词精确，避免宽泛的查询。\",\n",
    "            \"parameters\": {\n",
    "                \"type\": \"object\",\n",
    "                \"properties\": {\n",
    "                    \"query\": {\n",
    "                        \"type\": \"string\",\n",
    "                        \"description\": \"要搜索的关键词或问题，例如'最新小红书美妆趋势'或'深海蓝藻保湿面膜 用户评价'\"\n",
    "                    }\n",
    "                },\n",
    "                \"required\": [\"query\"]\n",
    "            }\n",
    "        }\n",
    "    },\n",
    "    {\n",
    "        \"type\": \"function\",\n",
    "        \"function\": {\n",
    "            \"name\": \"query_product_database\",\n",
    "            \"description\": \"查询内部产品数据库，获取指定产品的详细卖点、成分、适用人群、使用方法等信息。\",\n",
    "            \"parameters\": {\n",
    "                \"type\": \"object\",\n",
    "                \"properties\": {\n",
    "                    \"product_name\": {\n",
    "                        \"type\": \"string\",\n",
    "                        \"description\": \"要查询的产品名称，例如'深海蓝藻保湿面膜'\"\n",
    "                    }\n",
    "                },\n",
    "                \"required\": [\"product_name\"]\n",
    "            }\n",
    "        }\n",
    "    },\n",
    "    {\n",
    "        \"type\": \"function\",\n",
    "        \"function\": {\n",
    "            \"name\": \"generate_emoji\",\n",
    "            \"description\": \"根据提供的文本内容，生成一组适合小红书风格的表情符号。\",\n",
    "            \"parameters\": {\n",
    "                \"type\": \"object\",\n",
    "                \"properties\": {\n",
    "                    \"context\": {\n",
    "                        \"type\": \"string\",\n",
    "                        \"description\": \"文案的关键内容或情感，例如'惊喜效果'、'补水保湿'\"\n",
    "                    }\n",
    "                },\n",
    "                \"required\": [\"context\"]\n",
    "            }\n",
    "        }\n",
    "    }\n",
    "]\n",
    "\n",
    "import time\n",
    "import random\n",
    "# 模拟web查询\n",
    "def mock_search_web(query: str) -> str:\n",
    "    \"\"\"模拟网页搜索工具，返回预设的搜索结果。\"\"\"\n",
    "    print(f\"[Tool Call] 模拟搜索网页：{query}\")\n",
    "    time.sleep(1) # 模拟网络延迟\n",
    "    if \"小红书美妆趋势\" in query:\n",
    "        return \"近期小红书美妆流行'多巴胺穿搭'、'早C晚A'护肤理念、'伪素颜'妆容，热门关键词有#氛围感、#抗老、#屏障修复。\"\n",
    "    elif \"保湿面膜\" in query:\n",
    "        return \"小红书保湿面膜热门话题：沙漠干皮救星、熬夜急救面膜、水光肌养成。用户痛点：卡粉、泛红、紧绷感。\"\n",
    "    elif \"深海蓝藻保湿面膜\" in query:\n",
    "        return \"关于深海蓝藻保湿面膜的用户评价：普遍反馈补水效果好，吸收快，对敏感肌友好。有用户提到价格略高，但效果值得。\"\n",
    "    else:\n",
    "        return f\"未找到关于 '{query}' 的特定信息，但市场反馈通常关注产品成分、功效和用户体验。\"\n",
    "\n",
    "def mock_generate_emoji(context: str) -> list:\n",
    "    \"\"\"模拟生成表情符号，根据上下文提供常用表情。\"\"\"\n",
    "    print(f\"[Tool Call] 模拟生成表情符号，上下文：{context}\")\n",
    "    time.sleep(0.2) # 模拟生成延迟\n",
    "    if \"补水\" in context or \"水润\" in context or \"保湿\" in context:\n",
    "        return [\"💦\", \"💧\", \"🌊\", \"✨\"]\n",
    "    elif \"惊喜\" in context or \"哇塞\" in context or \"爱了\" in context:\n",
    "        return [\"💖\", \"😍\", \"🤩\", \"💯\"]\n",
    "    elif \"熬夜\" in context or \"疲惫\" in context:\n",
    "        return [\"😭\", \"😮‍💨\", \"😴\", \"💡\"]\n",
    "    elif \"好物\" in context or \"推荐\" in context:\n",
    "        return [\"✅\", \"👍\", \"⭐\", \"🛍️\"]\n",
    "    else:\n",
    "        return random.sample([\"✨\", \"🔥\", \"💖\", \"💯\", \"🎉\", \"👍\", \"🤩\", \"💧\", \"🌿\"], k=min(5, len(context.split())))\n",
    "\n",
    "# 查询效果不理想\n",
    "def query_product_database(product_name: str) -> str:\n",
    "    \"\"\"模拟查询产品数据库，返回预设的产品信息。\"\"\"\n",
    "    print(f\"[Tool Call] 查询产品数据库：{product_name}\")\n",
    "    search_res = milvus_client.search(\n",
    "        collection_name=collection_name,\n",
    "        data=default_embedding_model.encode_queries([product_name]),\n",
    "        limit=1,\n",
    "        output_fields=[\"text\"],\n",
    "        consistency_level=\"Strong\"\n",
    "    )\n",
    "    if len(search_res) > 0:\n",
    "        product_info = search_res[0][0]['entity']['text']\n",
    "        print(f\"[Tool Result] 查询结果：{product_info}\")\n",
    "        return product_info\n",
    "    else:\n",
    "        return f\"未找到关于 '{product_name}' 的产品信息，请检查产品名称是否正确。\"\n",
    "\n",
    "\n",
    "# 将模拟工具函数映射到一个字典，方便通过名称调用\n",
    "available_tools = {\n",
    "    \"search_web\": mock_search_web,\n",
    "    \"query_product_database\": query_product_database,\n",
    "    \"generate_emoji\": mock_generate_emoji,\n",
    "}"
   ],
   "id": "866cea4e6b3f7dc1",
   "outputs": [],
   "execution_count": 4
  },
  {
   "metadata": {
    "ExecuteTime": {
     "end_time": "2025-06-14T15:10:09.148745Z",
     "start_time": "2025-06-14T15:10:09.141707Z"
    }
   },
   "cell_type": "code",
   "source": [
    "import json\n",
    "import re\n",
    "\n",
    "def generate_rednote(product_name: str, tone_style: str = \"活泼甜美\", max_iterations: int = 5) -> str:\n",
    "    \"\"\"\n",
    "    使用 DeepSeek Agent 生成小红书爆款文案。\n",
    "\n",
    "    Args:\n",
    "        product_name (str): 要生成文案的产品名称。\n",
    "        tone_style (str): 文案的语气和风格，如\"活泼甜美\"、\"知性\"、\"搞怪\"等。\n",
    "        max_iterations (int): Agent 最大迭代次数，防止无限循环。\n",
    "\n",
    "    Returns:\n",
    "        str: 生成的爆款文案（JSON 格式字符串）。\n",
    "    \"\"\"\n",
    "\n",
    "    print(f\"\\n🚀 启动小红书文案生成助手，产品：{product_name}，风格：{tone_style}\\n\")\n",
    "\n",
    "    # 存储对话历史，包括系统提示词和用户请求\n",
    "    messages = [\n",
    "        {\"role\": \"system\", \"content\": SYSTEM_PROMPT},\n",
    "        {\"role\": \"user\", \"content\": f\"请为产品「{product_name}」生成一篇小红书爆款文案。要求：语气{tone_style}，包含标题、正文、至少5个相关标签和5个表情符号。请以完整的JSON格式输出，并确保JSON内容用markdown代码块包裹（例如：```json{{...}}```）。\"}\n",
    "    ]\n",
    "\n",
    "    iteration_count = 0\n",
    "    final_response = None\n",
    "\n",
    "    while iteration_count < max_iterations:\n",
    "        iteration_count += 1\n",
    "        print(f\"-- Iteration {iteration_count} --\")\n",
    "\n",
    "        try:\n",
    "            # 调用 DeepSeek API，传入对话历史和工具定义\n",
    "            response = client.chat.completions.create(\n",
    "                model=\"deepseek-chat\",\n",
    "                messages=messages,\n",
    "                tools=TOOLS_DEFINITION, # 告知模型可用的工具\n",
    "                tool_choice=\"auto\" # 允许模型自动决定是否使用工具\n",
    "            )\n",
    "\n",
    "            response_message = response.choices[0].message\n",
    "\n",
    "            # **ReAct模式：处理工具调用**\n",
    "            if response_message.tool_calls: # 如果模型决定调用工具\n",
    "                print(\"Agent: 决定调用工具...\")\n",
    "                messages.append(response_message) # 将工具调用信息添加到对话历史\n",
    "\n",
    "                tool_outputs = []\n",
    "                for tool_call in response_message.tool_calls:\n",
    "                    function_name = tool_call.function.name\n",
    "                    # 确保参数是合法的JSON字符串，即使工具不要求参数，也需要传递空字典\n",
    "                    function_args = json.loads(tool_call.function.arguments) if tool_call.function.arguments else {}\n",
    "\n",
    "                    print(f\"Agent Action: 调用工具 '{function_name}'，参数：{function_args}\")\n",
    "\n",
    "                    # 查找并执行对应的模拟工具函数\n",
    "                    if function_name in available_tools:\n",
    "                        tool_function = available_tools[function_name]\n",
    "                        tool_result = tool_function(**function_args)\n",
    "                        print(f\"Observation: 工具返回结果：{tool_result}\")\n",
    "                        tool_outputs.append({\n",
    "                            \"tool_call_id\": tool_call.id,\n",
    "                            \"role\": \"tool\",\n",
    "                            \"content\": str(tool_result) # 工具结果作为字符串返回\n",
    "                        })\n",
    "                    else:\n",
    "                        error_message = f\"错误：未知的工具 '{function_name}'\"\n",
    "                        print(error_message)\n",
    "                        tool_outputs.append({\n",
    "                            \"tool_call_id\": tool_call.id,\n",
    "                            \"role\": \"tool\",\n",
    "                            \"content\": error_message\n",
    "                        })\n",
    "                messages.extend(tool_outputs) # 将工具执行结果作为 Observation 添加到对话历史\n",
    "\n",
    "            # **ReAct 模式：处理最终内容**\n",
    "            elif response_message.content: # 如果模型直接返回内容（通常是最终答案）\n",
    "                print(f\"[模型生成结果] {response_message.content}\")\n",
    "\n",
    "                # --- START: 添加 JSON 提取和解析逻辑 ---\n",
    "                json_string_match = re.search(r\"```json\\s*(\\{.*\\})\\s*```\", response_message.content, re.DOTALL)\n",
    "\n",
    "                if json_string_match:\n",
    "                    extracted_json_content = json_string_match.group(1)\n",
    "                    try:\n",
    "                        final_response = json.loads(extracted_json_content)\n",
    "                        print(\"Agent: 任务完成，成功解析最终JSON文案。\")\n",
    "                        return json.dumps(final_response, ensure_ascii=False, indent=2)\n",
    "                    except json.JSONDecodeError as e:\n",
    "                        print(f\"Agent: 提取到JSON块但解析失败: {e}\")\n",
    "                        print(f\"尝试解析的字符串:\\n{extracted_json_content}\")\n",
    "                        messages.append(response_message) # 解析失败，继续对话\n",
    "                else:\n",
    "                    # 如果没有匹配到 ```json 块，尝试直接解析整个 content\n",
    "                    try:\n",
    "                        final_response = json.loads(response_message.content)\n",
    "                        print(\"Agent: 任务完成，直接解析最终JSON文案。\")\n",
    "                        return json.dumps(final_response, ensure_ascii=False, indent=2)\n",
    "                    except json.JSONDecodeError:\n",
    "                        print(\"Agent: 生成了非JSON格式内容或非Markdown JSON块，可能还在思考或出错。\")\n",
    "                        messages.append(response_message) # 非JSON格式，继续对话\n",
    "                # --- END: 添加 JSON 提取和解析逻辑 ---\n",
    "            else:\n",
    "                print(\"Agent: 未知响应，可能需要更多交互。\")\n",
    "                break\n",
    "\n",
    "        except Exception as e:\n",
    "            print(f\"调用 DeepSeek API 时发生错误: {e}\")\n",
    "            break\n",
    "\n",
    "    print(\"\\n⚠️ Agent 达到最大迭代次数或未能生成最终文案。请检查Prompt或增加迭代次数。\")\n",
    "    return \"未能成功生成文案。\""
   ],
   "id": "f0e35d28b385b139",
   "outputs": [],
   "execution_count": 5
  },
  {
   "metadata": {
    "ExecuteTime": {
     "end_time": "2025-06-14T15:10:37.603347Z",
     "start_time": "2025-06-14T15:10:13.465756Z"
    }
   },
   "cell_type": "code",
   "source": [
    "# 测试案例 1: 深海蓝藻保湿面膜\n",
    "product_name_1 = \"深海蓝藻保湿面膜\"\n",
    "tone_style_1 = \"活泼甜美\"\n",
    "result_1 = generate_rednote(product_name_1, tone_style_1)\n",
    "\n",
    "print(\"\\n--- 生成的文案 1 ---\")\n",
    "print(result_1)"
   ],
   "id": "cb212f44b7d120bd",
   "outputs": [
    {
     "name": "stdout",
     "output_type": "stream",
     "text": [
      "\n",
      "🚀 启动小红书文案生成助手，产品：深海蓝藻保湿面膜，风格：活泼甜美\n",
      "\n",
      "-- Iteration 1 --\n",
      "Agent: 决定调用工具...\n",
      "Agent Action: 调用工具 'query_product_database'，参数：{'product_name': '深海蓝藻保湿面膜'}\n",
      "[Tool Call] 查询产品数据库：深海蓝藻保湿面膜\n",
      "[Tool Result] 查询结果：小黑条口红: 涂抹时非常顺滑，不会卡唇纹，这对我这种唇部容易干的黄皮姑娘来说实在太友好了。即使不涂润唇膏打底，依然能保持一整天水润不干燥。\n",
      "Observation: 工具返回结果：小黑条口红: 涂抹时非常顺滑，不会卡唇纹，这对我这种唇部容易干的黄皮姑娘来说实在太友好了。即使不涂润唇膏打底，依然能保持一整天水润不干燥。\n",
      "-- Iteration 2 --\n",
      "Agent: 决定调用工具...\n",
      "Agent Action: 调用工具 'generate_emoji'，参数：{'context': '补水保湿、惊喜效果、活泼甜美'}\n",
      "[Tool Call] 模拟生成表情符号，上下文：补水保湿、惊喜效果、活泼甜美\n",
      "Observation: 工具返回结果：['💦', '💧', '🌊', '✨']\n",
      "-- Iteration 3 --\n",
      "[模型生成结果] ```json\n",
      "{\n",
      "  \"title\": \"💦深海蓝藻保湿面膜｜干皮救星！敷完皮肤水嫩到发光✨\",\n",
      "  \"body\": \"姐妹们！我最近挖到一款神仙面膜——深海蓝藻保湿面膜！简直是我的干皮救星！💧\\n\\n敷上脸的瞬间就感觉皮肤在疯狂喝水🌊，面膜纸超级服帖，精华液多到可以涂全身！敷完皮肤水嫩嫩的，摸起来像剥了壳的鸡蛋🥚，连毛孔都隐形了！\\n\\n🌟卖点速递：\\n1️⃣ 深海蓝藻提取物，深层补水不黏腻\\n2️⃣ 面膜纸超薄超透气，敏感肌也能用\\n3️⃣ 精华液多到爆炸，一片抵三片\\n\\n我已经连续用了一周，皮肤状态直接起飞🛫！干皮、混干皮的姐妹闭眼冲就对了！\\n\\n#深海蓝藻保湿面膜 #干皮救星 #补水神器 #面膜推荐 #护肤必备\",\n",
      "  \"hashtags\": [\"#深海蓝藻保湿面膜\", \"#干皮救星\", \"#补水神器\", \"#面膜推荐\", \"#护肤必备\"],\n",
      "  \"emojis\": [\"💦\", \"💧\", \"🌊\", \"✨\", \"🥚\"]\n",
      "}\n",
      "```\n",
      "Agent: 任务完成，成功解析最终JSON文案。\n",
      "\n",
      "--- 生成的文案 1 ---\n",
      "{\n",
      "  \"title\": \"💦深海蓝藻保湿面膜｜干皮救星！敷完皮肤水嫩到发光✨\",\n",
      "  \"body\": \"姐妹们！我最近挖到一款神仙面膜——深海蓝藻保湿面膜！简直是我的干皮救星！💧\\n\\n敷上脸的瞬间就感觉皮肤在疯狂喝水🌊，面膜纸超级服帖，精华液多到可以涂全身！敷完皮肤水嫩嫩的，摸起来像剥了壳的鸡蛋🥚，连毛孔都隐形了！\\n\\n🌟卖点速递：\\n1️⃣ 深海蓝藻提取物，深层补水不黏腻\\n2️⃣ 面膜纸超薄超透气，敏感肌也能用\\n3️⃣ 精华液多到爆炸，一片抵三片\\n\\n我已经连续用了一周，皮肤状态直接起飞🛫！干皮、混干皮的姐妹闭眼冲就对了！\\n\\n#深海蓝藻保湿面膜 #干皮救星 #补水神器 #面膜推荐 #护肤必备\",\n",
      "  \"hashtags\": [\n",
      "    \"#深海蓝藻保湿面膜\",\n",
      "    \"#干皮救星\",\n",
      "    \"#补水神器\",\n",
      "    \"#面膜推荐\",\n",
      "    \"#护肤必备\"\n",
      "  ],\n",
      "  \"emojis\": [\n",
      "    \"💦\",\n",
      "    \"💧\",\n",
      "    \"🌊\",\n",
      "    \"✨\",\n",
      "    \"🥚\"\n",
      "  ]\n",
      "}\n"
     ]
    }
   ],
   "execution_count": 6
  },
  {
   "metadata": {
    "ExecuteTime": {
     "end_time": "2025-06-14T15:17:05.708185Z",
     "start_time": "2025-06-14T15:17:05.593125Z"
    }
   },
   "cell_type": "code",
   "source": [
    "milvus_client.search(\n",
    "    collection_name=collection_name,\n",
    "    data=default_embedding_model.encode_queries([\"美白精华\"]),\n",
    "    limit=3,\n",
    "    output_fields=[\"text\"],\n",
    "    consistency_level=\"Strong\"\n",
    ")"
   ],
   "id": "c6d3de669baf91c0",
   "outputs": [
    {
     "data": {
      "text/plain": [
       "data: [[{'id': 2, 'distance': 0.6111695170402527, 'entity': {'text': '小黑条口红: 涂抹时非常顺滑，不会卡唇纹，这对我这种唇部容易干的黄皮姑娘来说实在太友好了。即使不涂润唇膏打底，依然能保持一整天水润不干燥。'}}, {'id': 0, 'distance': 0.3665962815284729, 'entity': {'text': '深海蓝藻保湿面膜：核心成分为深海蓝藻提取物，富含多糖和氨基酸，能深层补水、修护肌肤屏障、舒缓敏感泛红。质地清爽不粘腻，适合所有肤质，尤其适合干燥、敏感肌。规格：25ml*5片。'}}, {'id': 1, 'distance': 0.27117782831192017, 'entity': {'text': '美白精华：核心成分是烟酰胺和VC衍生物，主要功效是提亮肤色、淡化痘印、改善暗沉。质地轻薄易吸收，适合需要均匀肤色的人群。'}}]]"
      ]
     },
     "execution_count": 10,
     "metadata": {},
     "output_type": "execute_result"
    }
   ],
   "execution_count": 10
  },
  {
   "metadata": {},
   "cell_type": "code",
   "outputs": [],
   "execution_count": null,
   "source": [
    "# 测试案例 2: 美白精华\n",
    "product_name_2 = \"美白精华\"\n",
    "tone_style_2 = \"知性温柔\"\n",
    "result_2 = generate_rednote(product_name_2, tone_style_2)\n",
    "\n",
    "print(\"\\n--- 生成的文案 2 ---\")\n",
    "print(result_2)"
   ],
   "id": "24392afb9216026a"
  },
  {
   "metadata": {},
   "cell_type": "code",
   "outputs": [],
   "execution_count": null,
   "source": [
    "# 测试案例 3: 小黑条口红\n",
    "product_name_3 = \"小黑条口红\"\n",
    "tone_style_3 = \"搞怪\"\n",
    "result_3 = generate_rednote(product_name_2, tone_style_2)\n",
    "\n",
    "print(\"\\n--- 生成的文案 3 ---\")\n",
    "print(result_3)"
   ],
   "id": "6d1cd2c2df37d98a"
  }
 ],
 "metadata": {
  "kernelspec": {
   "display_name": "Python 3",
   "language": "python",
   "name": "python3"
  },
  "language_info": {
   "codemirror_mode": {
    "name": "ipython",
    "version": 2
   },
   "file_extension": ".py",
   "mimetype": "text/x-python",
   "name": "python",
   "nbconvert_exporter": "python",
   "pygments_lexer": "ipython2",
   "version": "2.7.6"
  }
 },
 "nbformat": 4,
 "nbformat_minor": 5
}
