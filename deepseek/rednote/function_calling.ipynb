{
 "cells": [
  {
   "cell_type": "code",
   "id": "9cb323ff-c445-4b4d-a86f-899ec6a993e0",
   "metadata": {
    "ExecuteTime": {
     "end_time": "2025-06-14T11:29:48.070731Z",
     "start_time": "2025-06-14T11:29:47.700721Z"
    }
   },
   "source": [
    "import os\n",
    "from openai import OpenAI\n",
    "\n",
    "# 从环境变量获取 DeepSeek API Key\n",
    "api_key = os.getenv(\"DEEPSEEK_API_KEY\")\n",
    "if not api_key:\n",
    "    raise ValueError(\"请设置 DEEPSEEK_API_KEY 环境变量\")\n",
    "\n",
    "# 初始化 DeepSeek 客户端\n",
    "client = OpenAI(\n",
    "    api_key=api_key,\n",
    "    base_url=\"https://api.deepseek.com/v1\",  # DeepSeek API 的基地址\n",
    ")"
   ],
   "outputs": [],
   "execution_count": 1
  },
  {
   "cell_type": "code",
   "id": "d90d29f4-651e-4228-9cbf-10a08b5aadf6",
   "metadata": {
    "ExecuteTime": {
     "end_time": "2025-06-14T11:30:06.603107Z",
     "start_time": "2025-06-14T11:30:06.599891Z"
    }
   },
   "source": [
    "def send_messages(messages):\n",
    "    response = client.chat.completions.create(\n",
    "        model=\"deepseek-chat\",\n",
    "        messages=messages,\n",
    "        tools=tools\n",
    "    )\n",
    "    return response.choices[0].message"
   ],
   "outputs": [],
   "execution_count": 2
  },
  {
   "cell_type": "code",
   "id": "565aec1d-c35d-4861-9123-f136ecc49c79",
   "metadata": {
    "ExecuteTime": {
     "end_time": "2025-06-14T11:30:13.104734Z",
     "start_time": "2025-06-14T11:30:13.102225Z"
    }
   },
   "source": [
    "tools = [\n",
    "    {\n",
    "        \"type\": \"function\",\n",
    "        \"function\": {\n",
    "            \"name\": \"get_weather\",\n",
    "            \"description\": \"Get weather of an location, the user shoud supply a location first\",\n",
    "            \"parameters\": {\n",
    "                \"type\": \"object\",\n",
    "                \"properties\": {\n",
    "                    \"location\": {\n",
    "                        \"type\": \"string\",\n",
    "                        \"description\": \"The city and state, e.g. San Francisco, CA\",\n",
    "                    }\n",
    "                },\n",
    "                \"required\": [\"location\"]\n",
    "            },\n",
    "        }\n",
    "    },\n",
    "]"
   ],
   "outputs": [],
   "execution_count": 3
  },
  {
   "cell_type": "code",
   "id": "b6a8c1ca-165d-4257-bcbb-a264f678065e",
   "metadata": {
    "ExecuteTime": {
     "end_time": "2025-06-14T11:35:10.715380Z",
     "start_time": "2025-06-14T11:35:07.361053Z"
    }
   },
   "source": [
    "messages = [{\"role\": \"user\", \"content\": \"How's the weather in Shanghai?\"}]\n",
    "message = send_messages(messages)"
   ],
   "outputs": [],
   "execution_count": 4
  },
  {
   "cell_type": "code",
   "id": "13880262-e7bf-4995-bf79-83f5e27e6933",
   "metadata": {
    "ExecuteTime": {
     "end_time": "2025-06-14T11:35:12.866540Z",
     "start_time": "2025-06-14T11:35:12.862142Z"
    }
   },
   "source": [
    "print(f\"User>\\t {messages[0]['content']}\")"
   ],
   "outputs": [
    {
     "name": "stdout",
     "output_type": "stream",
     "text": [
      "User>\t How's the weather in Shanghai?\n"
     ]
    }
   ],
   "execution_count": 5
  },
  {
   "cell_type": "code",
   "id": "4b809848-2d1c-41ea-b6a2-539dff7d80c2",
   "metadata": {
    "ExecuteTime": {
     "end_time": "2025-06-14T11:35:22.071973Z",
     "start_time": "2025-06-14T11:35:21.920973Z"
    }
   },
   "source": [
    "tool = message.tool_calls[0]\n",
    "messages.append(message)"
   ],
   "outputs": [],
   "execution_count": 6
  },
  {
   "cell_type": "code",
   "id": "028b8b66-1ef2-47e5-abf4-5e618d0ccac7",
   "metadata": {
    "ExecuteTime": {
     "end_time": "2025-06-14T11:38:27.524602Z",
     "start_time": "2025-06-14T11:38:27.518866Z"
    }
   },
   "source": [
    "tool"
   ],
   "outputs": [
    {
     "data": {
      "text/plain": [
       "ChatCompletionMessageToolCall(id='call_0_e1b07ca5-9cb1-4a83-ab73-97e4d98d9c6a', function=Function(arguments='{\"location\":\"Shanghai\"}', name='get_weather'), type='function', index=0)"
      ]
     },
     "execution_count": 7,
     "metadata": {},
     "output_type": "execute_result"
    }
   ],
   "execution_count": 7
  },
  {
   "cell_type": "code",
   "id": "e581bd15-ad55-4f55-b598-b455c6f2b4f0",
   "metadata": {
    "ExecuteTime": {
     "end_time": "2025-06-14T11:39:21.287736Z",
     "start_time": "2025-06-14T11:39:17.950637Z"
    }
   },
   "source": [
    "# 模拟 search_web 工具调用结果（直接返回24度）\n",
    "messages.append({\"role\": \"tool\", \"tool_call_id\": tool.id, \"content\": \"24℃\"})\n",
    "message = send_messages(messages)\n",
    "print(f\"Model>\\t {message.content}\")"
   ],
   "outputs": [
    {
     "name": "stdout",
     "output_type": "stream",
     "text": [
      "Model>\t The current weather in Shanghai is 24°C.\n"
     ]
    }
   ],
   "execution_count": 8
  },
  {
   "cell_type": "code",
   "execution_count": null,
   "id": "d3a1aecf-96ac-4122-88ca-a6e1670c8746",
   "metadata": {},
   "outputs": [],
   "source": []
  }
 ],
 "metadata": {
  "kernelspec": {
   "display_name": "Python 3 (ipykernel)",
   "language": "python",
   "name": "python3"
  },
  "language_info": {
   "codemirror_mode": {
    "name": "ipython",
    "version": 3
   },
   "file_extension": ".py",
   "mimetype": "text/x-python",
   "name": "python",
   "nbconvert_exporter": "python",
   "pygments_lexer": "ipython3",
   "version": "3.13.2"
  }
 },
 "nbformat": 4,
 "nbformat_minor": 5
}
